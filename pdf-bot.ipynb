{
 "cells": [
  {
   "cell_type": "code",
   "execution_count": 1,
   "id": "cb18f34d",
   "metadata": {},
   "outputs": [],
   "source": [
    "from langchain.embeddings.openai import OpenAIEmbeddings\n",
    "from langchain.document_loaders import TextLoader, PyPDFLoader\n",
    "from langchain.text_splitter import  RecursiveCharacterTextSplitter\n",
    "from langchain.vectorstores import Chroma\n",
    "from langchain.chat_models import ChatOpenAI\n",
    "from langchain.chains import ConversationalRetrievalChain\n",
    "from langchain_community.embeddings import OpenAIEmbeddings\n",
    "from langchain.vectorstores import ElasticVectorSearch, Pinecone, Weaviate, FAISS\n",
    "import pypdf\n",
    "\n",
    "import os\n",
    "os.environ[\"OPENAI_API_KEY\"] = \"\""
   ]
  },
  {
   "cell_type": "code",
   "execution_count": 11,
   "id": "a65b196b",
   "metadata": {},
   "outputs": [],
   "source": [
    "file_path = \"C:\\\\Users\\\\James Lee\\\\Desktop\\\\HM-Group-Annual-and-Sustainability-Report-2022.pdf\"\n",
    "pdf_reader = pypdf.PdfReader(file_path)"
   ]
  },
  {
   "cell_type": "code",
   "execution_count": 20,
   "id": "773b991b",
   "metadata": {},
   "outputs": [
    {
     "data": {
      "text/plain": [
       "'signed long-term virtual power purchase agreements in the UK, Sweden and Spain to cover electricity consumption in our operations in a majority of European markets. This will not only help us reduce our greenhouse gas emissions, but also secure our energy prices. Our sustainability work was recognised by, among others, the Dow Jones Sustainability World Index for the 11th consecutive year. As one of only 12 global retail companies in the index, we are assessed as a leader in environmental, social and governance performance. Investments in sustainability provide the group with long-term business opportunities. By building strategic partnerships with key stakeholders and growing in various innovative ways such as circular business models, we can grow our business in a way that decouples our financial growth and profitability from the use of finite natural resources. A good example of this is majority-owned fast-growing Sellpy, which is already one of the biggest players in second-hand fashion in Europe. Our investment arm CO:LAB is a way for us to explore new business models, and in addition to Sellpy we have invested in startups such as Smartex, Renewcell and Colorifix, to mention just a few. Our investments have in a short time created significant value, for example by improving the customer experience and enabling scaling and commercialisation of recycled and more sustainably sourced materials.\\xa0We will continue to make investments in new business models, materials and technologies that have the potential to drive radical shifts in how we make and remake our products, and how our customers can experience fashion. Alongside these efforts, we will keep working for increased levels of transparency to empower customers to make more informed decisions about the products they buy.OutlookLooking ahead, our main focus is on continuing to invest in and develop our customer offering and shopping experience for our unique brands, so that we keep meeting and exceeding our customers’ needs and expectations. Despite the turbulent world around us, H&M Group stands strong with a wide customer base, a robust financial position, healthy cash flow and a well-balanced inventory. Sales in 2023 have started well, showing that we can grow even in troubled times and when customers’ purchasing power is diminishing. We expect the external factors that have negatively affected our purchasing costs to gradually reverse and become positive in the second half of 2023. Our financial strength and long-term approach enable us to continue investing, and we are increasing capex from SEK 7 billion in 2022 to SEK 10 billion in 2023. All factors combined, there are very good prerequisites for 2023 to be a year of increased sales and improved profitability. Thus, our goal of achieving a double-digit operating margin for full-year 2024 remains in place. We see great potential for future expansion — despite our size, we can still grow and prosper further in new and existing markets. This is all thanks to the commitment from colleagues all around the world, who continue to build our company, stand true to our values and ensure we always realise the business idea that our founder laid the ground for 75 years ago — to deliver our customers unbeatable value with the best combination of fashion, quality, price and sustainability.  Helena Helmersson, CEO  H & M Hennes & Mauritz ABP. 8CEO LETTER OUR APPROACH TO SUSTAINABILITY DEMAND-DRIVEN SUPPLY CHAIN CUSTOMER IN FOCUS H&M GROUP AT A GLANCEsigned long-term virtual power purchase agreements in the UK, Sweden and Spain to cover electricity consumption in our operations in a majority of European markets. This will not only help us reduce our greenhouse gas emissions, but also secure our energy prices. Our sustainability work was recognised by, among others, the Dow Jones Sustainability World Index for the 11th consecutive year. As one of only 12 global retail companies in the index, we are assessed as a leader in environmental, social and governance performance. Investments in sustainability provide the group with long-term business opportunities. By building strategic partnerships with key stakeholders and growing in various innovative ways such as circular business models, we can grow our business in a way that decouples our financial growth and profitability from the use of finite natural resources. A good example of this is majority-owned fast-growing Sellpy, which is already one of the biggest players in second-hand fashion in Europe. Our investment arm CO:LAB is a way for us to explore new business models, and in addition to Sellpy we have invested in startups such as Smartex, Renewcell and Colorifix, to mention just a few. Our investments have in a short time created significant value, for example by improving the customer experience and enabling scaling and commercialisation of recycled and more sustainably sourced materials.\\xa0We will continue to make investments in new business models, materials and technologies that have the potential to drive radical shifts in how we make and remake our products, and how our customers can experience fashion. Alongside these efforts, we will keep working for increased levels of transparency to empower customers to make more informed decisions about the products they buy.OutlookLooking ahead, our main focus is on continuing to invest in and develop our customer offering and shopping experience for our unique brands, so that we keep meeting and exceeding our customers’ needs and expectations. Despite the turbulent world around us, H&M Group stands strong with a wide customer base, a robust financial position, healthy cash flow and a well-balanced inventory. Sales in 2023 have started well, showing that we can grow even in troubled times and when customers’ purchasing power is diminishing. We expect the external factors that have negatively affected our purchasing costs to gradually reverse and become positive in the second half of 2023. Our financial strength and long-term approach enable us to continue investing, and we are increasing capex from SEK 7 billion in 2022 to SEK 10 billion in 2023. All factors combined, there are very good prerequisites for 2023 to be a year of increased sales and improved profitability. Thus, our goal of achieving a double-digit operating margin for full-year 2024 remains in place. We see great potential for future expansion — despite our size, we can still grow and prosper further in new and existing markets. This is all thanks to the commitment from colleagues all around the world, who continue to build our company, stand true to our values and ensure we always realise the business idea that our founder laid the ground for 75 years ago — to deliver our customers unbeatable value with the best combination of fashion, quality, price and sustainability.  Helena Helmersson, CEO  H & M Hennes & Mauritz ABP. 8CEO LETTER OUR APPROACH TO SUSTAINABILITY DEMAND-DRIVEN SUPPLY CHAIN CUSTOMER IN FOCUS H&M GROUP AT A GLANCE'"
      ]
     },
     "execution_count": 20,
     "metadata": {},
     "output_type": "execute_result"
    }
   ],
   "source": [
    "pdfs = pdf_reader.pages[6:8]\n",
    "text = ''\n",
    "for i in range(len(pdfs)):\n",
    "    text = pdfs[i].extract_text()\n",
    "    text += text\n",
    "text = text.replace(\"\\n\", \"\")\n",
    "text"
   ]
  },
  {
   "cell_type": "code",
   "execution_count": 21,
   "id": "7186a61b",
   "metadata": {},
   "outputs": [
    {
     "data": {
      "text/plain": [
       "['signed long-term virtual power purchase agreements in the UK, Sweden and Spain to cover electricity consumption in our operations in a majority of European markets. This will not only help us reduce our greenhouse gas emissions, but also secure our energy prices. Our sustainability work was recognised by, among others, the Dow Jones Sustainability World Index for the 11th consecutive year. As one of only 12 global retail companies in the index, we are assessed as a leader in environmental, social and',\n",
       " 'in environmental, social and governance performance. Investments in sustainability provide the group with long-term business opportunities. By building strategic partnerships with key stakeholders and growing in various innovative ways such as circular business models, we can grow our business in a way that decouples our financial growth and profitability from the use of finite natural resources. A good example of this is majority-owned fast-growing Sellpy, which is already one of the biggest players in',\n",
       " 'one of the biggest players in second-hand fashion in Europe. Our investment arm CO:LAB is a way for us to explore new business models, and in addition to Sellpy we have invested in startups such as Smartex, Renewcell and Colorifix, to mention just a few. Our investments have in a short time created significant value, for example by improving the customer experience and enabling scaling and commercialisation of recycled and more sustainably sourced materials.\\xa0We will continue to make investments in new',\n",
       " 'to make investments in new business models, materials and technologies that have the potential to drive radical shifts in how we make and remake our products, and how our customers can experience fashion. Alongside these efforts, we will keep working for increased levels of transparency to empower customers to make more informed decisions about the products they buy.OutlookLooking ahead, our main focus is on continuing to invest in and develop our customer offering and shopping experience for our unique',\n",
       " 'experience for our unique brands, so that we keep meeting and exceeding our customers’ needs and expectations. Despite the turbulent world around us, H&M Group stands strong with a wide customer base, a robust financial position, healthy cash flow and a well-balanced inventory. Sales in 2023 have started well, showing that we can grow even in troubled times and when customers’ purchasing power is diminishing. We expect the external factors that have negatively affected our purchasing costs to gradually',\n",
       " 'purchasing costs to gradually reverse and become positive in the second half of 2023. Our financial strength and long-term approach enable us to continue investing, and we are increasing capex from SEK 7 billion in 2022 to SEK 10 billion in 2023. All factors combined, there are very good prerequisites for 2023 to be a year of increased sales and improved profitability. Thus, our goal of achieving a double-digit operating margin for full-year 2024 remains in place. We see great potential for future',\n",
       " 'see great potential for future expansion — despite our size, we can still grow and prosper further in new and existing markets. This is all thanks to the commitment from colleagues all around the world, who continue to build our company, stand true to our values and ensure we always realise the business idea that our founder laid the ground for 75 years ago — to deliver our customers unbeatable value with the best combination of fashion, quality, price and sustainability.  Helena Helmersson, CEO  H & M',\n",
       " 'Helena Helmersson, CEO  H & M Hennes & Mauritz ABP. 8CEO LETTER OUR APPROACH TO SUSTAINABILITY DEMAND-DRIVEN SUPPLY CHAIN CUSTOMER IN FOCUS H&M GROUP AT A GLANCEsigned long-term virtual power purchase agreements in the UK, Sweden and Spain to cover electricity consumption in our operations in a majority of European markets. This will not only help us reduce our greenhouse gas emissions, but also secure our energy prices. Our sustainability work was recognised by, among others, the Dow Jones Sustainability',\n",
       " 'the Dow Jones Sustainability World Index for the 11th consecutive year. As one of only 12 global retail companies in the index, we are assessed as a leader in environmental, social and governance performance. Investments in sustainability provide the group with long-term business opportunities. By building strategic partnerships with key stakeholders and growing in various innovative ways such as circular business models, we can grow our business in a way that decouples our financial growth and',\n",
       " 'our financial growth and profitability from the use of finite natural resources. A good example of this is majority-owned fast-growing Sellpy, which is already one of the biggest players in second-hand fashion in Europe. Our investment arm CO:LAB is a way for us to explore new business models, and in addition to Sellpy we have invested in startups such as Smartex, Renewcell and Colorifix, to mention just a few. Our investments have in a short time created significant value, for example by improving the',\n",
       " 'for example by improving the customer experience and enabling scaling and commercialisation of recycled and more sustainably sourced materials.\\xa0We will continue to make investments in new business models, materials and technologies that have the potential to drive radical shifts in how we make and remake our products, and how our customers can experience fashion. Alongside these efforts, we will keep working for increased levels of transparency to empower customers to make more informed decisions about the',\n",
       " 'informed decisions about the products they buy.OutlookLooking ahead, our main focus is on continuing to invest in and develop our customer offering and shopping experience for our unique brands, so that we keep meeting and exceeding our customers’ needs and expectations. Despite the turbulent world around us, H&M Group stands strong with a wide customer base, a robust financial position, healthy cash flow and a well-balanced inventory. Sales in 2023 have started well, showing that we can grow even in',\n",
       " 'that we can grow even in troubled times and when customers’ purchasing power is diminishing. We expect the external factors that have negatively affected our purchasing costs to gradually reverse and become positive in the second half of 2023. Our financial strength and long-term approach enable us to continue investing, and we are increasing capex from SEK 7 billion in 2022 to SEK 10 billion in 2023. All factors combined, there are very good prerequisites for 2023 to be a year of increased sales and',\n",
       " 'a year of increased sales and improved profitability. Thus, our goal of achieving a double-digit operating margin for full-year 2024 remains in place. We see great potential for future expansion — despite our size, we can still grow and prosper further in new and existing markets. This is all thanks to the commitment from colleagues all around the world, who continue to build our company, stand true to our values and ensure we always realise the business idea that our founder laid the ground for 75 years',\n",
       " 'laid the ground for 75 years ago — to deliver our customers unbeatable value with the best combination of fashion, quality, price and sustainability.  Helena Helmersson, CEO  H & M Hennes & Mauritz ABP. 8CEO LETTER OUR APPROACH TO SUSTAINABILITY DEMAND-DRIVEN SUPPLY CHAIN CUSTOMER IN FOCUS H&M GROUP AT A GLANCE']"
      ]
     },
     "execution_count": 21,
     "metadata": {},
     "output_type": "execute_result"
    }
   ],
   "source": [
    "text_splitter = RecursiveCharacterTextSplitter(\n",
    "    chunk_size = 512,\n",
    "    chunk_overlap  = 32,\n",
    "    length_function = len,\n",
    ")\n",
    "texts = text_splitter.split_text(text)\n",
    "texts"
   ]
  },
  {
   "cell_type": "code",
   "execution_count": 23,
   "id": "b51d53f9",
   "metadata": {},
   "outputs": [],
   "source": [
    "from langchain_openai import OpenAIEmbeddings\n",
    "\n",
    "embeddings = OpenAIEmbeddings()"
   ]
  },
  {
   "cell_type": "code",
   "execution_count": 25,
   "id": "0c13a79b",
   "metadata": {},
   "outputs": [
    {
     "name": "stderr",
     "output_type": "stream",
     "text": [
      "No embedding_function provided, using default embedding function: DefaultEmbeddingFunction https://huggingface.co/sentence-transformers/all-MiniLM-L6-v2\n"
     ]
    }
   ],
   "source": [
    "vectorstore = Chroma.from_texts(texts, embeddings)"
   ]
  },
  {
   "cell_type": "code",
   "execution_count": null,
   "id": "3d3d7d72",
   "metadata": {},
   "outputs": [
    {
     "name": "stderr",
     "output_type": "stream",
     "text": [
      "C:\\Users\\James Lee\\AppData\\Roaming\\Python\\Python311\\site-packages\\langchain_core\\_api\\deprecation.py:117: LangChainDeprecationWarning: The class `langchain_community.chat_models.openai.ChatOpenAI` was deprecated in langchain-community 0.1.0 and will be removed in 0.2.0. Use langchain_openai.ChatOpenAI instead.\n",
      "  warn_deprecated(\n"
     ]
    },
    {
     "name": "stdout",
     "output_type": "stream",
     "text": [
      "\n",
      "Q: 這篇文章的重點是甚麼?\n"
     ]
    },
    {
     "name": "stderr",
     "output_type": "stream",
     "text": [
      "C:\\Users\\James Lee\\AppData\\Roaming\\Python\\Python311\\site-packages\\langchain_core\\_api\\deprecation.py:117: LangChainDeprecationWarning: The function `__call__` was deprecated in LangChain 0.1.0 and will be removed in 0.2.0. Use invoke instead.\n",
      "  warn_deprecated(\n"
     ]
    },
    {
     "name": "stdout",
     "output_type": "stream",
     "text": [
      "A: 這篇文章的重點是H&M集團致力於投資新的商業模式、材料和技術，以推動產品的製造和再製造方式出現根本性轉變，並提供顧客獨特的購物體驗。同時，他們也致力於提高透明度水平，讓顧客能夠更明智地選擇他們購買的產品。公司的目標是在時尚領域持續投資和發展，提供獨特的顧客服務和購物體驗，同時改善客戶體驗，推動回收和更可持續來源材料的規模化和商業化。\n"
     ]
    }
   ],
   "source": [
    "qa = ConversationalRetrievalChain.from_llm(ChatOpenAI(temperature=0), vectorstore.as_retriever())\n",
    "chat_history = []\n",
    "while True:\n",
    "    query = input('\\nQ: ') \n",
    "    if not query:\n",
    "        break\n",
    "    result = qa({\"question\": query + ' (用繁體中文回答)', \"chat_history\": chat_history})\n",
    "    print('A:', result['answer'])\n",
    "    chat_history.append((query, result['answer']))"
   ]
  },
  {
   "cell_type": "code",
   "execution_count": null,
   "id": "32096a9c",
   "metadata": {},
   "outputs": [],
   "source": []
  }
 ],
 "metadata": {
  "kernelspec": {
   "display_name": "Financial",
   "language": "python",
   "name": "financial"
  },
  "language_info": {
   "codemirror_mode": {
    "name": "ipython",
    "version": 3
   },
   "file_extension": ".py",
   "mimetype": "text/x-python",
   "name": "python",
   "nbconvert_exporter": "python",
   "pygments_lexer": "ipython3",
   "version": "3.11.7"
  }
 },
 "nbformat": 4,
 "nbformat_minor": 5
}
